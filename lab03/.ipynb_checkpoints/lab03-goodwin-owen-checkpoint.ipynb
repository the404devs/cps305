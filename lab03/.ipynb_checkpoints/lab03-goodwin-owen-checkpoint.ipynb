{
 "cells": [
  {
   "cell_type": "markdown",
   "metadata": {},
   "source": [
    "## Exercise 1"
   ]
  },
  {
   "cell_type": "code",
   "execution_count": 10,
   "metadata": {},
   "outputs": [
    {
     "name": "stdout",
     "output_type": "stream",
     "text": [
      "5 + ( 4 * 6 / 2 ) - 5  evaluates to  12.0\n",
      "( 2 + 2 ) ! + 8  evaluates to  32\n"
     ]
    }
   ],
   "source": [
    "from mySolution import infixToPostfixEval\n",
    "\n",
    "infix = \"5 + ( 4 * 6 / 2 ) - 5\"\n",
    "result = infixToPostfixEval(infix)\n",
    "print(infix, \" evaluates to \", result)\n",
    "\n",
    "infix = \"( 2 + 2 ) ! + 8\"\n",
    "result = infixToPostfixEval(infix)\n",
    "print(infix, \" evaluates to \", result)\n"
   ]
  },
  {
   "cell_type": "markdown",
   "metadata": {},
   "source": [
    "Through this exercise, I've managed to wrap my head around postfix (sort of). \n",
    "I made the assumption that the input string wouldn't contain letters, only numbers and operations.\n",
    "I've taken the postfix evaluation method from the textbook, as suggested. The only modification is in the ``doMath()`` method, where I've added additional functionality to calculate the factorial of an operand.\n",
    "\n",
    "I've thrown a lot of expressions at this thing to make sure it works correctly. The only major flaw in it is that it cannot process numbers with more than two digits (ex: ``10 + 10``), but I don't believe that is a requirement for this exercise.\n",
    "\n",
    "When converting an expression to postfix, we iterate over each token in the input, filling our output expression one token at a time.\n",
    "If the token is a digit, we simply add that token into our output expression.\n",
    "In the case the token is an opening bracket ``(``, we add that to the operations stack.\n",
    "If we find a closing bracket ``)``, we continually strip the top element of the operations stack, appending them to our output list, until we reach the matching opening bracket ``(``.\n",
    "\n",
    "In the remainder of the cases, our token is one of the operators: ``+``, ``-``, ``*``, ``/``, ``!``.\n",
    "Each of these operators has a priority level, as follows:\n",
    "``!``: 4\n",
    "``*`` and ``/``: 3\n",
    "``+`` and ``-``: 2\n",
    "Opening and closing brackets have a priority of 1.\n",
    "\n",
    "When we reach an operation, we continually take operations from the operations stack and append them to the output postfix expression, until the time we reach an operation with a higher priority, or we reach the end of the operation stack.\n",
    "\n",
    "This continues for each token in the input expression, and once each token has been processed, there is a good chance there are still some left on the operations stack. That's ok, all we need to do is take the remainders on the operation stack and append them to the output string, completing our postfix expression.\n",
    "\n",
    "\n",
    "Once we've successfully translated the given infix to postfix, we can then evaluate it with the provided ``postfixEval()`` method. Similarly to the ``infixToPostfix()`` method, we break the input into tokens, which we then begin to iterate over.\n",
    "\n",
    "If the token is a digit, add it to our operand stack.\n",
    "\n",
    "If the token is a factorial (``!``), take the top element from the operand stack (i.e. the digit that came before the factorial), and compute the factorial using ``math.factorial()``. This result is then added onto the operand stack.\n",
    "\n",
    "In the remainder of the cases, our token is one of the operators: ``+``, ``-``, ``*``, ``/``.\n",
    "We now take the top two operands from the stack (the two digits this operation is to be performed on), and perform the requested operation (For example, if the operation is ``+``, we add, and so on).\n",
    "Once we've completed the operation, we take the result and add it to the operand stack."
   ]
  },
  {
   "cell_type": "code",
   "execution_count": null,
   "metadata": {},
   "outputs": [],
   "source": []
  }
 ],
 "metadata": {
  "kernelspec": {
   "display_name": "Python 3",
   "language": "python",
   "name": "python3"
  },
  "language_info": {
   "codemirror_mode": {
    "name": "ipython",
    "version": 3
   },
   "file_extension": ".py",
   "mimetype": "text/x-python",
   "name": "python",
   "nbconvert_exporter": "python",
   "pygments_lexer": "ipython3",
   "version": "3.7.4"
  }
 },
 "nbformat": 4,
 "nbformat_minor": 2
}
