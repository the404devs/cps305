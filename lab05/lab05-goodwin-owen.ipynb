{
 "cells": [
  {
   "cell_type": "markdown",
   "metadata": {},
   "source": [
    "# Lab 5\n",
    "Owen Goodwin (500909196)\n",
    "\n",
    "10/08/19"
   ]
  },
  {
   "cell_type": "code",
   "execution_count": 1,
   "metadata": {},
   "outputs": [
    {
     "name": "stdout",
     "output_type": "stream",
     "text": [
      "['goat', None, None, None, 'dog', 'lion', None, None, None, 'cow', 'cat', 'bird', 'pig', None, None, None, None, 'tiger', None, None, 'chicken', None]\n",
      "chicken\n",
      "duck\n",
      "['goat', None, None, None, 'dog', 'lion', None, None, None, 'cow', 'cat', 'bird', 'pig', None, None, None, None, 'tiger', None, None, 'duck', None]\n"
     ]
    }
   ],
   "source": [
    "from hashing import *\n",
    "\n",
    "H = HashTable()\n",
    "H[54] = \"cat\"\n",
    "H[26] = \"dog\"\n",
    "H[93] = \"lion\"\n",
    "H[17] = \"tiger\"\n",
    "H[77] = \"bird\"\n",
    "H[31] = \"cow\"\n",
    "H[44] = \"goat\"\n",
    "H[55] = \"pig\"\n",
    "H[20] = \"chicken\"\n",
    "print(H.data)\n",
    "\n",
    "print(H[20])\n",
    "\n",
    "H[20] = 'duck'\n",
    "\n",
    "print(H[20])\n",
    "\n",
    "print(H.data)"
   ]
  },
  {
   "cell_type": "markdown",
   "metadata": {},
   "source": [
    "**1. Why did you choose a particular resizing method? How much does the table grow?**\n",
    "To resize the table, I take a copy of the current table's keys and data, and initialize a new one twice as long, and then recalculate the new positions of the old values. I chose to resize the table this way simply because it seemed like the most natural method.\n",
    "\n",
    "**2. What loading factor threshold have you used for the resizing the table and why that particular choice?**\n",
    "The table is resized once the loading factor hits 70%. Through some testing, I've noticed that the number of collisions goes up sharply as the loading factor goes beyond 70%, so it seemed like resizing at 70% would be a good decision for performance."
   ]
  },
  {
   "cell_type": "markdown",
   "metadata": {},
   "source": [
    "### The improved ``put()`` method"
   ]
  },
  {
   "cell_type": "code",
   "execution_count": 2,
   "metadata": {},
   "outputs": [],
   "source": [
    "def put(self, key, data):\n",
    "    self.resize()#determine whether or not we need to resize the table\n",
    "    hashvalue = self.hashfunction(key, len(self.slots))#get hash val with given key and length of slots\n",
    "\n",
    "    if self.slots[hashvalue] == None:#if the slot is empty, add the thing\n",
    "        self.slots[hashvalue] = key\n",
    "        self.data[hashvalue] = data\n",
    "    else:\n",
    "        if self.slots[hashvalue] == key:#if the slot already has the same key, replace the data\n",
    "            self.data[hashvalue] = data  #replace\n",
    "        else:# else, rehash for a new slot\n",
    "            nextslot = self.rehash(hashvalue, len(self.slots))\n",
    "            while self.slots[nextslot] != None and self.slots[nextslot] != key:\n",
    "                nextslot = self.rehash(nextslot, len(self.slots))\n",
    "\n",
    "            if self.slots[nextslot] == None:\n",
    "                self.slots[nextslot] = key\n",
    "                self.data[nextslot] = data\n",
    "            else:\n",
    "                self.data[nextslot] = data #replace"
   ]
  },
  {
   "cell_type": "markdown",
   "metadata": {},
   "source": [
    "To be honest, the only real difference is the call to ``resize()`` at the start, to decide whether we should resize the table. That's all we needed to do anyways. I did end up spending a good chunk of time trying to figure out why the value that triggered the resize ended up in the wrong spot while all others were fine, until I realised I had been determining the ``hashvalue`` before calling ``resize()``, effectively determining the new element's position in the old table, and putting it there in the new table. Swapping the first two lines fixed that real quick."
   ]
  },
  {
   "cell_type": "code",
   "execution_count": 3,
   "metadata": {},
   "outputs": [],
   "source": [
    "#Function to check if the table needs resizing, and if so, resizes the table\n",
    "def resize(self):\n",
    "    if self.getLoadFactor() > 0.7:# We resize if its over 70% full\n",
    "        oldData = self.data #Take a copy of the pre-resize slots and data.\n",
    "        oldSlots = self.slots\n",
    "        self.data = [None] * (len(oldData) * 2)# Make new lists, twice as long as the old ones\n",
    "        self.slots = [None] * (len(oldSlots) * 2)\n",
    "        self.fix(oldSlots, oldData)# Take the old slots and data, and put them in the correct spots in the new table\n",
    "        self.size = self.size * 2# Make sure we remember our resize\n",
    "\n",
    "#Function to fix up the table after a resize, by calculating the new position of all the stuff\n",
    "def fix(self, oldSlots, oldData):\n",
    "    for i in range(0, len(oldSlots)):# Start going through all of our old stuff\n",
    "        if oldSlots[i] != None:# We don't care if the slot is empty\n",
    "            key = oldSlots[i] # Take the old key-val pair...\n",
    "            val = oldData[i]\n",
    "            self.put(key, val) # ...and put it in it's proper home in the bigger table\n",
    "\n",
    "#Function to get the current load factor. This value is how we decide when to resize\n",
    "def getLoadFactor(self):\n",
    "    # Load factor = # of filled slots / # of slots total\n",
    "    d = len(self.slots) # get the total number of slots\n",
    "    n = 0 # create a counter var\n",
    "    for slot in self.slots:# Go through each slot, and find out if it's filled. Add one if it is.\n",
    "        if slot != None:\n",
    "            n += 1\n",
    "    #At this point, n is the number of slots that are filled.\n",
    "    #print(\"There are \" + str(d) + \" slots, \" + str(n) + \" are full (\" + str(n/d * 1.0) + \")\")\n",
    "    return n/d * 1.0# Calculate the load factor, as a float"
   ]
  },
  {
   "cell_type": "markdown",
   "metadata": {},
   "source": [
    "These three methods are all part of the resizing process.\n",
    "\n",
    "``resize()`` is called every time we call ``put()`` to add a new element. It checks the load factor and decides whether the table should be resized or not.\n",
    "\n",
    "``getLoadFactor()`` is pretty self-explanitory, it calculates how many of the table's slots are occupied, and then divides that by the number of total slots to get the load factor.\n",
    "\n",
    "``fix()`` is how we take the contents of the table before the resize and figure out their new position in the resized table, without this we'd have issues."
   ]
  },
  {
   "cell_type": "code",
   "execution_count": null,
   "metadata": {},
   "outputs": [],
   "source": []
  }
 ],
 "metadata": {
  "kernelspec": {
   "display_name": "Python 3",
   "language": "python",
   "name": "python3"
  },
  "language_info": {
   "codemirror_mode": {
    "name": "ipython",
    "version": 3
   },
   "file_extension": ".py",
   "mimetype": "text/x-python",
   "name": "python",
   "nbconvert_exporter": "python",
   "pygments_lexer": "ipython3",
   "version": "3.7.4"
  }
 },
 "nbformat": 4,
 "nbformat_minor": 2
}
