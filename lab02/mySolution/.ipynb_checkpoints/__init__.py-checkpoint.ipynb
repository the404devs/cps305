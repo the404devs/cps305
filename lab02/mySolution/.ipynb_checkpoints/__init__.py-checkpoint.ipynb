{
 "cells": [
  {
   "cell_type": "code",
   "execution_count": null,
   "metadata": {},
   "outputs": [],
   "source": [
    "import timeit\n",
    "import matplotlib.pyplot as plt\n",
    "def timingTest():\n",
    "    d=\"\"\"\\\n",
    "    d = {\n",
    "        \"a\": \"a\",\n",
    "        \"b\": \"a\",\n",
    "        \"c\": \"a\",\n",
    "        \"d\": \"a\",\n",
    "        \"e\": \"a\",\n",
    "        \"f\": \"a\",\n",
    "        \"g\": \"a\",\n",
    "        \"h\": \"a\",\n",
    "        \"i\": \"a\",\n",
    "        \"j\": \"a\",\n",
    "        \"k\": \"a\",\n",
    "        \"l\": \"a\",\n",
    "        \"m\": \"a\",\n",
    "        \"n\": \"a\",\n",
    "        \"o\": \"a\",\n",
    "        \"p\": \"a\",\n",
    "        \"q\": \"a\",\n",
    "        \"r\": \"a\",\n",
    "        \"s\": \"a\",\n",
    "        \"t\": \"a\",\n",
    "        \"u\": \"a\",\n",
    "        \"v\": \"a\",\n",
    "        \"w\": \"a\",\n",
    "        \"x\": \"a\",\n",
    "        \"y\": \"a\",\n",
    "        \"z\": \"a\"\n",
    "    }\n",
    "    \"\"\"\n",
    "    for x in range(0, 10):\n",
    "        plt.plot(timeit.timeit(\"d.get('a')\", setup=d), x, \"ro\")\n",
    "        plt.plot(timeit.timeit(\"d.get('n')\", setup=d), x, \"go\")\n",
    "        plt.plot(timeit.timeit(\"d.get('z')\", setup=d), x, \"bo\")\n",
    "        plt.plot(timeit.timeit(\"d.update(a='mario')\", setup=d), x, \"rs\")\n",
    "        plt.plot(timeit.timeit(\"d.update(n='mario')\", setup=d), x, \"gs\")\n",
    "        plt.plot(timeit.timeit(\"d.update(z='mario')\", setup=d), x, \"bs\")\n",
    "\n",
    "    plt.xlabel(\"Execution Time (s)\")#Labels for the x- and y-axis\n",
    "    plt.ylabel(\"Iteration\")\n"
   ]
  }
 ],
 "metadata": {
  "kernelspec": {
   "display_name": "Python 3",
   "language": "python",
   "name": "python3"
  },
  "language_info": {
   "codemirror_mode": {
    "name": "ipython",
    "version": 3
   },
   "file_extension": ".py",
   "mimetype": "text/x-python",
   "name": "python",
   "nbconvert_exporter": "python",
   "pygments_lexer": "ipython3",
   "version": "3.7.4"
  }
 },
 "nbformat": 4,
 "nbformat_minor": 2
}
