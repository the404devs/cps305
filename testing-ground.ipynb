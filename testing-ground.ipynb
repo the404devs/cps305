{
 "cells": [
  {
   "cell_type": "code",
   "execution_count": 17,
   "metadata": {},
   "outputs": [
    {
     "name": "stdout",
     "output_type": "stream",
     "text": [
      "p is good\n",
      "y is good\n",
      "t is good\n",
      "h is good\n",
      "o is good\n",
      "o is bad\n",
      "n is good\n"
     ]
    },
    {
     "data": {
      "text/plain": [
       "False"
      ]
     },
     "execution_count": 17,
     "metadata": {},
     "output_type": "execute_result"
    }
   ],
   "source": [
    "def findmin(list):\n",
    "    min = float('inf');\n",
    "    for item in list:\n",
    "        if item<min:\n",
    "            min = item\n",
    "    return min\n",
    "\n",
    "def findmin2(list):\n",
    "    min = list[0];\n",
    "    for i in list:\n",
    "        smallest = True\n",
    "        for j in list:\n",
    "            if i>j:\n",
    "                smallest = False\n",
    "        if smallest:\n",
    "            min = i\n",
    "            \n",
    "            \n",
    "            \n",
    "    return min\n",
    "\n",
    "# findmin2([1,2,3,4,5,6])\n",
    "\n",
    "def anagram(str1, str2):\n",
    "    good = True\n",
    "    if len(str1) != len(str2):\n",
    "        good = False\n",
    "    \n",
    "    list1 = list(str1)\n",
    "    list2 = list(str2)\n",
    "    for char in list1:\n",
    "        if char in list2:\n",
    "            print(char + \" is good\")\n",
    "            list2[list2.index(char)] = None\n",
    "        else:\n",
    "            print(char + \" is bad\")\n",
    "            good = False\n",
    "    return good\n",
    "            \n",
    "anagram(\"pythoon\", \"typheon\")"
   ]
  },
  {
   "cell_type": "code",
   "execution_count": null,
   "metadata": {},
   "outputs": [],
   "source": []
  },
  {
   "cell_type": "code",
   "execution_count": null,
   "metadata": {},
   "outputs": [],
   "source": []
  }
 ],
 "metadata": {
  "kernelspec": {
   "display_name": "Python 3",
   "language": "python",
   "name": "python3"
  },
  "language_info": {
   "codemirror_mode": {
    "name": "ipython",
    "version": 3
   },
   "file_extension": ".py",
   "mimetype": "text/x-python",
   "name": "python",
   "nbconvert_exporter": "python",
   "pygments_lexer": "ipython3",
   "version": "3.7.4"
  }
 },
 "nbformat": 4,
 "nbformat_minor": 2
}
