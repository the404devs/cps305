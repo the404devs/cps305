{
 "cells": [
  {
   "cell_type": "code",
   "execution_count": 3,
   "metadata": {
    "scrolled": false
   },
   "outputs": [
    {
     "name": "stdout",
     "output_type": "stream",
     "text": [
      "String | Score | Iteration\n",
      "nv ctukxbvbrbwoauuikynith vedlcj yaudavuegzwdkcbnvewyuetgvgtexmm | 0.0 | 0\n",
      "the mvmhyopdjzoezbbxxustwwnklrwsoxelbyewsuocixlfhgkntdvoehfbvmmy | 7.8125 | 100\n",
      "the moqisiswop w fcemqzfbedcfofbzx evixbkcrneysjlgvmanthguyandkf | 9.375 | 200\n",
      "the most hegmscklkirnabkordvpgmuql hpkxrzqjy zdapzihcxxiyrzztqbb | 15.625 | 300\n",
      "the most hopelervpqsjktdjxuhrvwigreh omfpsngkplnnngvzjxwokvkhhup | 23.4375 | 400\n",
      "the most hopelessly shkjcejrsopjdybiogpepzmdcqojauynecsuazvxtumn | 32.8125 | 500\n",
      "the most hopelessly stupikpkdp xmml drpvolpjheaehvoyqhubtvcvhtub | 39.0625 | 600\n",
      "the most hopelessly stupid man isozhvolrqjyroujxfbatylwisrrdytqp | 51.5625 | 700\n",
      "the most hopelessly stupid man is he whscat ugjgezfoqaaeczsdjryj | 60.9375 | 800\n",
      "the most hopelessly stupid man is he whos affmfwpuoqvsztp jtuadi | 62.5 | 900\n",
      "the most hopelessly stupid man is he who ivfkbt iclnhmvicldxsihs | 65.625 | 1000\n",
      "the most hopelessly stupid man is he who is ckbehwvzmagpeuqinrey | 68.75 | 1100\n",
      "the most hopelessly stupid man is he who is not xwhvmecbvqfimpgh | 75.0 | 1200\n",
      "the most hopelessly stupid man is he who is not aware lhdblmaygk | 84.375 | 1300\n",
      "the most hopelessly stupid man is he who is not aware he ipal ue | 90.625 | 1400\n",
      "the most hopelessly stupid man is he who is not aware he is wise | 100.0 | 1488\n"
     ]
    },
    {
     "data": {
      "image/png": "[encoded data removed]",
      "text/plain": [
       "<Figure size 432x288 with 1 Axes>"
      ]
     },
     "metadata": {
      "needs_background": "light"
     },
     "output_type": "display_data"
    }
   ],
   "source": [
    "from mySolution import monkeyTypist\n",
    "\n",
    "monkeyTypist()\n",
    "# At least for me, matplotlib sometimes just decides it doesn't want to create a plot\n",
    "# Seems to display fine running it a second time though. \n",
    "# Could be a problem of my own creation, but maybe not. I hope not.\n"
   ]
  },
  {
   "cell_type": "code",
   "execution_count": null,
   "metadata": {},
   "outputs": [],
   "source": []
  },
  {
   "cell_type": "code",
   "execution_count": null,
   "metadata": {},
   "outputs": [],
   "source": []
  },
  {
   "cell_type": "code",
   "execution_count": null,
   "metadata": {},
   "outputs": [],
   "source": []
  },
  {
   "cell_type": "code",
   "execution_count": null,
   "metadata": {},
   "outputs": [],
   "source": []
  },
  {
   "cell_type": "code",
   "execution_count": null,
   "metadata": {},
   "outputs": [],
   "source": []
  },
  {
   "cell_type": "code",
   "execution_count": null,
   "metadata": {},
   "outputs": [],
   "source": []
  },
  {
   "cell_type": "code",
   "execution_count": null,
   "metadata": {},
   "outputs": [],
   "source": []
  }
 ],
 "metadata": {
  "kernelspec": {
   "display_name": "Python 3",
   "language": "python",
   "name": "python3"
  },
  "language_info": {
   "codemirror_mode": {
    "name": "ipython",
    "version": 3
   },
   "file_extension": ".py",
   "mimetype": "text/x-python",
   "name": "python",
   "nbconvert_exporter": "python",
   "pygments_lexer": "ipython3",
   "version": "3.7.4"
  }
 },
 "nbformat": 4,
 "nbformat_minor": 2
}
