{
 "cells": [
  {
   "cell_type": "code",
   "execution_count": 2,
   "metadata": {
    "scrolled": false
   },
   "outputs": [
    {
     "name": "stdout",
     "output_type": "stream",
     "text": [
      "String | Score | Iteration\n",
      "jvcewxhwvorpgrgikau zvhzrgjdcladeacmljpvflnivakoncfyozluvcwjnpds | 0.0 | 0\n",
      "the mozwebsrmhfqzipnzkfsgyvojgzonbdluduzuljfkmeukp ehlz yfgsiosh | 9.375 | 100\n",
      "the mosvcsryv vxrjqoamzsitojfyxzrlivuoqrhctxnhbeaioxuwufbzeqhqvq | 10.9375 | 200\n",
      "the most ebirmvpszkkucw vgldhlzt ybjlhnco qlvz glsncxhfwbvkzskdh | 14.0625 | 300\n",
      "the most hopeldfkroihtlnmbvbxdsjpbmhvhzbrwwbelftjqplonequ cskgpz | 21.875 | 400\n",
      "the most hopelasvpqplls nqovincdymszgdy qfuoskljewghjfkohffmcdqj | 21.875 | 500\n",
      "the most hopelessltxfrcwageztrvuezjprmxqperlsfcjgcxjzprvg fvffse | 28.125 | 600\n",
      "the most hopelessly stupiiiymnzahhbwcupikzbfbukmaktjbujbhbefmbhi | 39.0625 | 700\n",
      "the most hopelessly stupid man ihejgyds srmsbbsq mkwvfmqensgec o | 50.0 | 800\n",
      "the most hopelessly stupid man is he ilenmsrdqhaurglntwxlivzciqk | 57.8125 | 900\n",
      "the most hopelessly stupid man is he wzzuvixrfxbieqwocugnkwt kax | 59.375 | 1000\n",
      "the most hopelessly stupid man is he who is npldvidmpejgdvldourm | 70.3125 | 1100\n",
      "the most hopelessly stupid man is he who is not awawxh dmanghtkw | 79.6875 | 1200\n",
      "the most hopelessly stupid man is he who is not aware hxiaoacbml | 85.9375 | 1300\n",
      "the most hopelessly stupid man is he who is not aware he istiawp | 92.1875 | 1400\n",
      "the most hopelessly stupid man is he who is not aware he is wise | 100.0 | 1457\n"
     ]
    },
    {
     "data": {
      "image/png": "[encoded data removed]",
      "text/plain": [
       "<Figure size 432x288 with 1 Axes>"
      ]
     },
     "metadata": {
      "needs_background": "light"
     },
     "output_type": "display_data"
    }
   ],
   "source": [
    "from mySolution import monkeyTypist\n",
    "\n",
    "monkeyTypist()\n",
    "# At least for me, matplotlib sometimes just decides it doesn't want to create a plot\n",
    "# Seems to display fine running it a second time though. \n",
    "# Could be a problem of my own creation, but maybe not. I hope not.\n"
   ]
  },
  {
   "cell_type": "code",
   "execution_count": null,
   "metadata": {},
   "outputs": [],
   "source": []
  },
  {
   "cell_type": "code",
   "execution_count": null,
   "metadata": {},
   "outputs": [],
   "source": []
  },
  {
   "cell_type": "code",
   "execution_count": null,
   "metadata": {},
   "outputs": [],
   "source": []
  },
  {
   "cell_type": "code",
   "execution_count": null,
   "metadata": {},
   "outputs": [],
   "source": []
  },
  {
   "cell_type": "code",
   "execution_count": null,
   "metadata": {},
   "outputs": [],
   "source": []
  },
  {
   "cell_type": "code",
   "execution_count": null,
   "metadata": {},
   "outputs": [],
   "source": []
  },
  {
   "cell_type": "code",
   "execution_count": null,
   "metadata": {},
   "outputs": [],
   "source": []
  }
 ],
 "metadata": {
  "kernelspec": {
   "display_name": "Python 3",
   "language": "python",
   "name": "python3"
  },
  "language_info": {
   "codemirror_mode": {
    "name": "ipython",
    "version": 3
   },
   "file_extension": ".py",
   "mimetype": "text/x-python",
   "name": "python",
   "nbconvert_exporter": "python",
   "pygments_lexer": "ipython3",
   "version": "3.7.4"
  }
 },
 "nbformat": 4,
 "nbformat_minor": 2
}
